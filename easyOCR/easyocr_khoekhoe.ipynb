{
  "nbformat": 4,
  "nbformat_minor": 0,
  "metadata": {
    "colab": {
      "provenance": [],
      "gpuType": "T4"
    },
    "kernelspec": {
      "name": "python3",
      "display_name": "Python 3"
    },
    "language_info": {
      "name": "python"
    },
    "accelerator": "GPU",
    "gpuClass": "standard"
  },
  "cells": [
    {
      "cell_type": "code",
      "source": [
        "! pip install easyocr\n",
        "! pip install torchmetrics\n",
        "! pip install pdf2image\n",
        "! sudo apt-get install -y poppler-utils"
      ],
      "metadata": {
        "id": "gjW1dT2cNoeh"
      },
      "execution_count": null,
      "outputs": []
    },
    {
      "cell_type": "code",
      "source": [
        "from PIL import Image\n",
        "import os\n",
        "from pdf2image import convert_from_path\n",
        "import numpy as np\n",
        "import torchmetrics"
      ],
      "metadata": {
        "id": "M4TuOAhGZDZB"
      },
      "execution_count": null,
      "outputs": []
    },
    {
      "cell_type": "code",
      "source": [
        "import easyocr\n",
        "reader = easyocr.Reader(['en','fr']) # this needs to run only once to load the model into memory"
      ],
      "metadata": {
        "colab": {
          "base_uri": "https://localhost:8080/"
        },
        "id": "hGNywA9wsqbk",
        "outputId": "52e705c6-5a21-4d04-e08a-eba0da39b19e"
      },
      "execution_count": null,
      "outputs": [
        {
          "output_type": "stream",
          "name": "stderr",
          "text": [
            "WARNING:easyocr.easyocr:Downloading detection model, please wait. This may take several minutes depending upon your network connection.\n"
          ]
        },
        {
          "output_type": "stream",
          "name": "stdout",
          "text": [
            "Progress: |██████████████████████████████████████████████████| 100.0% Complete"
          ]
        },
        {
          "output_type": "stream",
          "name": "stderr",
          "text": [
            "WARNING:easyocr.easyocr:Downloading recognition model, please wait. This may take several minutes depending upon your network connection.\n"
          ]
        },
        {
          "output_type": "stream",
          "name": "stdout",
          "text": [
            "Progress: |██████████████████████████████████████████████████| 100.0% Complete"
          ]
        }
      ]
    },
    {
      "cell_type": "code",
      "source": [
        "! mkdir images\n",
        "! mkdir texts\n",
        "! mkdir KK-BOOKS-1971"
      ],
      "metadata": {
        "id": "asgHk-hPYWeU"
      },
      "execution_count": null,
      "outputs": []
    },
    {
      "cell_type": "code",
      "source": [
        "# from pdf to images\n",
        "for file in os.listdir('/content/images'):\n",
        "  if file.endswith('.pdf'):\n",
        "\n",
        "    filepath = f'/content/images/{file}'\n",
        "    doc = convert_from_path(filepath)\n",
        "  \n",
        "    folder_name = \"-\".join(file.split('-')[:3])\n",
        "    for i in range(len(doc)):\n",
        "      doc[i].save(f'/content/{folder_name}/image_{i+1}.png', 'PNG')"
      ],
      "metadata": {
        "id": "fW-PYS33ZMh2"
      },
      "execution_count": null,
      "outputs": []
    },
    {
      "cell_type": "code",
      "source": [
        "original_text = []\n",
        "for file in os.listdir('/content/texts'):\n",
        "  with open(f'/content/texts/{file}', 'r', encoding='utf-8') as f:\n",
        "    text = f.read()\n",
        "    original_text.append(text)"
      ],
      "metadata": {
        "id": "r6mZQf1LZ6Jp"
      },
      "execution_count": null,
      "outputs": []
    },
    {
      "cell_type": "code",
      "source": [
        "original_text = [o.replace('\\t', '').replace('\\n', '') for o in original_text]"
      ],
      "metadata": {
        "id": "adNwjMuoarst"
      },
      "execution_count": null,
      "outputs": []
    },
    {
      "cell_type": "code",
      "source": [
        "recognised_text = []\n",
        "for file in os.listdir('/content/KK-BOOKS-1971'):\n",
        "  result = reader.readtext(f'/content/KK-BOOKS-1971/{file}', detail = 0)\n",
        "  recognised_text.append(result)"
      ],
      "metadata": {
        "id": "EbuTyAiSs2Ta"
      },
      "execution_count": null,
      "outputs": []
    },
    {
      "cell_type": "code",
      "source": [
        "recognised_text = [' '.join(t) for t in recognised_text]"
      ],
      "metadata": {
        "id": "tvR_iHcetn7e"
      },
      "execution_count": null,
      "outputs": []
    },
    {
      "cell_type": "code",
      "source": [
        "cer = torchmetrics.CharErrorRate()\n",
        "model_result = cer(original_text, recognised_text)\n",
        "print(f\"CER: {model_result}\")\n",
        "print(f\"Accuracy: {1 - model_result}\")"
      ],
      "metadata": {
        "colab": {
          "base_uri": "https://localhost:8080/"
        },
        "id": "KPzTjYGZb7CU",
        "outputId": "19c69fb5-2443-4cff-abca-2758b82b409a"
      },
      "execution_count": null,
      "outputs": [
        {
          "output_type": "stream",
          "name": "stdout",
          "text": [
            "CER: 0.8935492038726807\n",
            "Accuracy: 0.10645079612731934\n"
          ]
        }
      ]
    },
    {
      "cell_type": "markdown",
      "source": [
        "### Предварительная обработка изображений"
      ],
      "metadata": {
        "id": "Khb2WJspcPo_"
      }
    },
    {
      "cell_type": "code",
      "source": [
        "import matplotlib.pyplot as plt\n",
        "from skimage import io, color, filters\n",
        "from skimage.filters import threshold_yen # для бинаризации\n",
        "from skimage import morphology # для dilation\n",
        "from skimage import transform # de-skewing\n",
        "import cv2"
      ],
      "metadata": {
        "id": "PokIs6uEXeiZ"
      },
      "execution_count": null,
      "outputs": []
    },
    {
      "cell_type": "code",
      "source": [
        "! mkdir new_images"
      ],
      "metadata": {
        "id": "kUdGMJAaezek"
      },
      "execution_count": null,
      "outputs": []
    },
    {
      "cell_type": "code",
      "source": [
        "# Попробуем распознать данные\n",
        "\n",
        "rt_after_preprocessing = []\n",
        "images_path = '/content/KK-BOOKS-1971'\n",
        "\n",
        "for i in range(1, 32):\n",
        "  img = io.imread(f'{images_path}/image_{i}.png')\n",
        "  gray_img = color.rgb2gray(img)\n",
        "  \n",
        "  threshold_value = filters.threshold_yen(gray_img)\n",
        "  binary_img = gray_img > threshold_value\n",
        "\n",
        "  selem = morphology.disk(1)\n",
        "  angle = 1\n",
        "\n",
        "  eroded_img = morphology.dilation(binary_img, selem)\n",
        "  rotated_img = transform.rotate(eroded_img, angle)\n",
        "\n",
        "  cv2.imwrite(f'/content/new_images/image_{i}.png', rotated_img)\n",
        "  \n",
        "  result = reader.readtext('/content/new_images/image_{i}.png', detail = 0)\n",
        "  rt_after_preprocessing.append(result)"
      ],
      "metadata": {
        "id": "GhKa19b9coXf",
        "colab": {
          "base_uri": "https://localhost:8080/",
          "height": 294
        },
        "outputId": "c3e72d1b-27c7-49ce-efe2-281706431c87"
      },
      "execution_count": 37,
      "outputs": [
        {
          "output_type": "error",
          "ename": "error",
          "evalue": "ignored",
          "traceback": [
            "\u001b[0;31m---------------------------------------------------------------------------\u001b[0m",
            "\u001b[0;31merror\u001b[0m                                     Traceback (most recent call last)",
            "\u001b[0;32m<ipython-input-37-3a8ea1205339>\u001b[0m in \u001b[0;36m<cell line: 6>\u001b[0;34m()\u001b[0m\n\u001b[1;32m     17\u001b[0m   \u001b[0mrotated_img\u001b[0m \u001b[0;34m=\u001b[0m \u001b[0mtransform\u001b[0m\u001b[0;34m.\u001b[0m\u001b[0mrotate\u001b[0m\u001b[0;34m(\u001b[0m\u001b[0meroded_img\u001b[0m\u001b[0;34m,\u001b[0m \u001b[0mangle\u001b[0m\u001b[0;34m)\u001b[0m\u001b[0;34m\u001b[0m\u001b[0;34m\u001b[0m\u001b[0m\n\u001b[1;32m     18\u001b[0m \u001b[0;34m\u001b[0m\u001b[0m\n\u001b[0;32m---> 19\u001b[0;31m   \u001b[0mcv2\u001b[0m\u001b[0;34m.\u001b[0m\u001b[0mimwrite\u001b[0m\u001b[0;34m(\u001b[0m\u001b[0;34mf'/content/new_images/image_{i}.png'\u001b[0m\u001b[0;34m,\u001b[0m \u001b[0mrotated_img\u001b[0m\u001b[0;34m)\u001b[0m\u001b[0;34m\u001b[0m\u001b[0;34m\u001b[0m\u001b[0m\n\u001b[0m\u001b[1;32m     20\u001b[0m \u001b[0;34m\u001b[0m\u001b[0m\n\u001b[1;32m     21\u001b[0m   \u001b[0mresult\u001b[0m \u001b[0;34m=\u001b[0m \u001b[0mreader\u001b[0m\u001b[0;34m.\u001b[0m\u001b[0mreadtext\u001b[0m\u001b[0;34m(\u001b[0m\u001b[0;34m'/content/new_images/image_{i}.png'\u001b[0m\u001b[0;34m,\u001b[0m \u001b[0mdetail\u001b[0m \u001b[0;34m=\u001b[0m \u001b[0;36m0\u001b[0m\u001b[0;34m)\u001b[0m\u001b[0;34m\u001b[0m\u001b[0;34m\u001b[0m\u001b[0m\n",
            "\u001b[0;31merror\u001b[0m: OpenCV(4.5.4) :-1: error: (-5:Bad argument) in function 'imwrite'\n> Overload resolution failed:\n>  - img data type = 0 is not supported\n>  - Expected Ptr<cv::UMat> for argument 'img'\n"
          ]
        }
      ]
    },
    {
      "cell_type": "code",
      "source": [
        "rt_after_preprocessing = [' '.join(t) for t in rt_after_preprocessing]"
      ],
      "metadata": {
        "id": "2mW84WKIdDKF"
      },
      "execution_count": null,
      "outputs": []
    },
    {
      "cell_type": "code",
      "source": [
        "cer = torchmetrics.CharErrorRate()\n",
        "model_result = cer(original_text, recognised_text)\n",
        "print(f\"CER: {model_result}\")\n",
        "print(f\"Accuracy: {1 - model_result}\")"
      ],
      "metadata": {
        "id": "vC076f3OdM7a"
      },
      "execution_count": null,
      "outputs": []
    },
    {
      "cell_type": "code",
      "source": [
        "img = io.imread(f'{images_path}/image_16.png')\n",
        "gray_img = color.rgb2gray(img)\n",
        "  \n",
        "threshold_value = filters.threshold_yen(gray_img)\n",
        "binary_img = gray_img > threshold_value\n",
        "\n",
        "angle = 1\n",
        "\n",
        "rotated_img = transform.rotate(binary_img, angle)\n",
        "\n",
        "plt.imshow(rotated_img, cmap='gray')\n",
        "plt.show()"
      ],
      "metadata": {
        "id": "KmfAu29chCj2",
        "colab": {
          "base_uri": "https://localhost:8080/",
          "height": 435
        },
        "outputId": "ba9f50d5-d979-4b94-b35e-ccf7dc022fa3"
      },
      "execution_count": 39,
      "outputs": [
        {
          "output_type": "display_data",
          "data": {
            "text/plain": [
              "<Figure size 640x480 with 1 Axes>"
            ],
            "image/png": "[encoded data removed]"
          },
          "metadata": {}
        }
      ]
    },
    {
      "cell_type": "code",
      "source": [
        "result = reader.readtext('/content/new_images/example.png', detail = 0)"
      ],
      "metadata": {
        "id": "rzBmzluIgXUj"
      },
      "execution_count": 46,
      "outputs": []
    },
    {
      "cell_type": "code",
      "source": [
        "result"
      ],
      "metadata": {
        "colab": {
          "base_uri": "https://localhost:8080/"
        },
        "id": "jiKNmDghiOW7",
        "outputId": "deba2dbd-3000-48b9-fa85-e8d0fad7df7b"
      },
      "execution_count": 47,
      "outputs": [
        {
          "output_type": "execute_result",
          "data": {
            "text/plain": [
              "['22, Inun xo',\n",
              " 'Lerlbo Von du 0 [uruba} Amoso mûhbso anu Igurud',\n",
              " '76 ngbo Infun 08 Igawh Ihcmu 0 , Ihoan Ino r hà. Uln',\n",
              " 'Ouko koi $nuwvis Ino Iqui r h,',\n",
              " \"K' re, Omnose QJ-0i Igurun ge nôna Iln di 'nuw $ Inob 0\",\n",
              " \"hurolqui Ikh6 cobo ra ho , Ilb 00 'nuwlso ailqûbo Ial Ioawi\",\n",
              " 'om Ikhoe ; 0i inu 1s} khokhoo-ob ta',\n",
              " 'müloooro Joeb 0i Inur',\n",
              " '2nsu f0 tanton. Aolnoraqu 00 khoos tal Inomkho 0i r Içj',\n",
              " 'Jorudi {si Koono loequb Ino .',\n",
              " 'Afua 90 Ihun',\n",
              " \"hairon 'alna koipo r '0 'OMan %\",\n",
              " 'Pnino lon nign ro Joo [Mi Ikhoriqu Inon 0 Inorono Ihono:',\n",
              " 'uno  u 138 Iknoorono / Ikho',\n",
              " '(Sida Ikharib Innn ge noras0 tqui Baruno ho INltsddo 00 %',\n",
              " 'JZb 17j dgco tsi Fna ra mû   Amape Barun 0* Igê) hoithoro',\n",
              " 'sena . Iln 9c hano; Inn Iopm tsi n Inaubo m nou Inbub [',\n",
              " 'ro loe',\n",
              " '21 Wu 0 00 [61 Dou *,',\n",
              " 'nAsœb q Elowoloano poba loaroo Ina 3i Qe r loumo INg',\n",
              " '80',\n",
              " '\\'rjiv Iab q\" loub 10 \\'khori Ihoproro 0 Iooro Ikhocsq',\n",
              " 'Wu',\n",
              " \"[Aub 90 Igira K Ve [onuhe 'khori Lhoororo 0\",\n",
              " '0',\n",
              " 'Amkaibosca',\n",
              " '1si']"
            ]
          },
          "metadata": {},
          "execution_count": 47
        }
      ]
    },
    {
      "cell_type": "markdown",
      "source": [
        "### Обучение модели"
      ],
      "metadata": {
        "id": "fe-ftyz5dSv0"
      }
    },
    {
      "cell_type": "code",
      "source": [
        "# импорты\n",
        "import os\n",
        "from trdg.generators import GeneratorFromStrings\n",
        "import random\n",
        "import yaml\n",
        "import sys\n",
        "import csv"
      ],
      "metadata": {
        "id": "HUsE5sTFm_je"
      },
      "execution_count": null,
      "outputs": []
    },
    {
      "cell_type": "code",
      "source": [
        "# загружаем txt файлы\n",
        "from google.colab import drive\n",
        "drive.mount('/content/drive')"
      ],
      "metadata": {
        "colab": {
          "base_uri": "https://localhost:8080/"
        },
        "id": "yxPDxZmDOMLD",
        "outputId": "7d7f0071-2363-4136-91f5-9ed9aa71a874"
      },
      "execution_count": null,
      "outputs": [
        {
          "output_type": "stream",
          "name": "stdout",
          "text": [
            "Mounted at /content/drive\n"
          ]
        }
      ]
    },
    {
      "cell_type": "code",
      "source": [
        "texts_collection = []\n",
        "for f in os.listdir('/content/drive/MyDrive/NAMA_OCR/texts'):\n",
        "  if f.endswith('.txt'):\n",
        "    with open(f\"/content/drive/MyDrive/NAMA_OCR/texts/{f}\", \"r\", encoding=\"utf-8\") as f:\n",
        "      text = f.read()\n",
        "      texts_collection.append(text)"
      ],
      "metadata": {
        "id": "gbq1rVlaOaz9"
      },
      "execution_count": null,
      "outputs": []
    },
    {
      "cell_type": "code",
      "source": [
        "# убираем пустые данные\n",
        "texts_collection = [t for t in texts_collection if t != '']\n",
        "# убираем знаки табуляции и переноса строки\n",
        "texts_collection = [t.replace('\\n', '').replace('\\t', '') for t in texts_collection]"
      ],
      "metadata": {
        "id": "5HxtHb3th75q"
      },
      "execution_count": null,
      "outputs": []
    },
    {
      "cell_type": "code",
      "source": [
        "# регулируем длину\n",
        "texts_collection = [t for t in texts_collection if len(t) > 4]\n",
        "\n",
        "for i, t in enumerate(texts_collection):\n",
        "  if len(t) >= 65:\n",
        "    texts_collection[i] = t[:30]\n",
        "    texts_collection.append(t[len(t)+30:])"
      ],
      "metadata": {
        "id": "oa2Q88pQjj5t"
      },
      "execution_count": null,
      "outputs": []
    },
    {
      "cell_type": "code",
      "source": [
        "with open('/content/drive/MyDrive/NAMA_OCR/texts_collections.csv', 'w') as f:\n",
        "  csv_file = csv.writer(f)\n",
        "\n",
        "  for line in texts_collection:\n",
        "    csv_file.writerow(line)"
      ],
      "metadata": {
        "id": "L0YVCzSvlRCM"
      },
      "execution_count": null,
      "outputs": []
    },
    {
      "cell_type": "markdown",
      "source": [
        "Генерируем синтетический датасет"
      ],
      "metadata": {
        "id": "4FlmVak4ddzY"
      }
    },
    {
      "cell_type": "code",
      "source": [
        "generator1 = GeneratorFromStrings(\n",
        "    strings=texts_collection,\n",
        "    count=2500,\n",
        "    blur=1\n",
        ")"
      ],
      "metadata": {
        "id": "tUeWVT1UuF30"
      },
      "execution_count": null,
      "outputs": []
    },
    {
      "cell_type": "code",
      "source": [
        "generator2 = GeneratorFromStrings(\n",
        "    strings=texts_collection,\n",
        "    count=2500,\n",
        "    blur=0\n",
        ")"
      ],
      "metadata": {
        "id": "jAFMFyzSLYVP"
      },
      "execution_count": null,
      "outputs": []
    },
    {
      "cell_type": "code",
      "source": [
        "!mkdir /content/dataset"
      ],
      "metadata": {
        "id": "LHxpETSD_WQD"
      },
      "execution_count": null,
      "outputs": []
    },
    {
      "cell_type": "code",
      "source": [
        "import PIL.Image\n",
        "if not hasattr(PIL.Image, 'Resampling'):  # Pillow<9.0\n",
        "    PIL.Image.Resampling = PIL.Image\n",
        "\n",
        "filenames = []\n",
        "targets = []\n",
        "\n",
        "counter = 0\n",
        "for img, lbl in generator1:\n",
        "  if img != \"\" and lbl != \"\":\n",
        "    img.save(f'/content/dataset/image_{counter}.jpeg', 'JPEG')\n",
        "    targets.append(lbl)\n",
        "    filenames.append(f'/content/dataset/image_{counter}.jpeg')\n",
        "    counter += 1"
      ],
      "metadata": {
        "id": "e49kvgq1PePb"
      },
      "execution_count": null,
      "outputs": []
    },
    {
      "cell_type": "code",
      "source": [
        "for img, lbl in generator2:\n",
        "  if img != \"\" and lbl != \"\":\n",
        "    img.save(f'/content/dataset/image_{counter}.jpeg', 'JPEG')\n",
        "    targets.append(lbl)\n",
        "    filenames.append(f'/content/dataset/image_{counter}.jpeg')\n",
        "    counter += 1"
      ],
      "metadata": {
        "id": "IMVE2zcZuibM"
      },
      "execution_count": null,
      "outputs": []
    },
    {
      "cell_type": "markdown",
      "source": [
        "Примеры"
      ],
      "metadata": {
        "id": "N4CMrw1Qdj9W"
      }
    },
    {
      "cell_type": "code",
      "source": [
        "# посмотрим на примеры\n",
        "from PIL import Image\n",
        "\n",
        "image = Image.open(f'/content/dataset/image_{random.randint(1, len(targets))}.jpeg')\n",
        "image"
      ],
      "metadata": {
        "colab": {
          "base_uri": "https://localhost:8080/",
          "height": 49
        },
        "id": "uJeVUU0S_i8c",
        "outputId": "00a34be4-e4e8-42e9-b5db-81ea3ff3fefe"
      },
      "execution_count": null,
      "outputs": [
        {
          "output_type": "execute_result",
          "data": {
            "text/plain": [
              "<PIL.JpegImagePlugin.JpegImageFile image mode=RGB size=230x32 at 0x7FDFE81029E0>"
            ],
            "image/png": "[encoded data removed]"
          },
          "metadata": {},
          "execution_count": 59
        }
      ]
    },
    {
      "cell_type": "code",
      "source": [
        "image = Image.open(f'/content/dataset/image_{random.randint(1, len(targets))}.jpeg')\n",
        "image"
      ],
      "metadata": {
        "colab": {
          "base_uri": "https://localhost:8080/",
          "height": 49
        },
        "id": "PJEAAwCrD7NS",
        "outputId": "c9ef7396-5ee9-48bc-f15a-1b2ab13135a2"
      },
      "execution_count": null,
      "outputs": [
        {
          "output_type": "execute_result",
          "data": {
            "text/plain": [
              "<PIL.JpegImagePlugin.JpegImageFile image mode=RGB size=237x32 at 0x7FDFE8277910>"
            ],
            "image/png": "[encoded data removed]"
          },
          "metadata": {},
          "execution_count": 63
        }
      ]
    },
    {
      "cell_type": "code",
      "source": [
        "image = Image.open(f'/content/dataset/image_{random.randint(1, len(targets))}.jpeg')\n",
        "image"
      ],
      "metadata": {
        "colab": {
          "base_uri": "https://localhost:8080/",
          "height": 49
        },
        "id": "G8yhkbTAD8jg",
        "outputId": "2b5fb19c-e61e-46d7-ca3d-7675bcd04dd4"
      },
      "execution_count": null,
      "outputs": [
        {
          "output_type": "execute_result",
          "data": {
            "text/plain": [
              "<PIL.JpegImagePlugin.JpegImageFile image mode=RGB size=248x32 at 0x7FDFE813BA00>"
            ],
            "image/png": "[encoded data removed]"
          },
          "metadata": {},
          "execution_count": 74
        }
      ]
    },
    {
      "cell_type": "code",
      "source": [
        "#разделим выборку на тренировочную и тестовую\n",
        "from sklearn.model_selection import train_test_split\n",
        "\n",
        "X_train, X_test, y_train, y_test = train_test_split(filenames, targets, test_size=0.2, random_state=42)"
      ],
      "metadata": {
        "id": "0GjPy9Nk_5f2"
      },
      "execution_count": null,
      "outputs": []
    },
    {
      "cell_type": "code",
      "source": [
        "!mkdir /content/train_data\n",
        "!mkdir /content/test_data"
      ],
      "metadata": {
        "id": "oBeS5yOmwmON"
      },
      "execution_count": null,
      "outputs": []
    },
    {
      "cell_type": "code",
      "source": [
        "for filename in X_train:\n",
        "  os.system(f'mv {filename} /content/train_data')"
      ],
      "metadata": {
        "id": "4KixcsI8dP5L"
      },
      "execution_count": null,
      "outputs": []
    },
    {
      "cell_type": "code",
      "source": [
        "for filename in X_test:\n",
        "  os.system(f'mv {filename} /content/test_data')"
      ],
      "metadata": {
        "id": "foGK0BQ8epz8"
      },
      "execution_count": null,
      "outputs": []
    },
    {
      "cell_type": "code",
      "source": [
        "import csv  \n",
        "\n",
        "header = ['filename', 'words']\n",
        "\n",
        "with open('/content/train_data/labels.csv', 'w', encoding='UTF8') as f:\n",
        "    writer = csv.writer(f)\n",
        "\n",
        "    # write the header\n",
        "    writer.writerow(header)\n",
        "\n",
        "    for i in range(len(X_train)):\n",
        "      data = [X_train[i], y_train[i]]\n",
        "      writer.writerow(data)\n",
        "\n",
        "with open('/content/test_data/labels.csv', 'w', encoding='UTF8') as f:\n",
        "    writer = csv.writer(f)\n",
        "\n",
        "    # write the header\n",
        "    writer.writerow(header)\n",
        "\n",
        "    for i in range(len(X_test)):\n",
        "      data = [X_test[i], y_test[i]]\n",
        "      writer.writerow(data)"
      ],
      "metadata": {
        "id": "OrXpMoyJhTXH"
      },
      "execution_count": null,
      "outputs": []
    },
    {
      "cell_type": "code",
      "source": [
        "# сохраняем полученный набор данных\n",
        "!cp -r /content/train_data /content/drive/MyDrive/NAMA_OCR\n",
        "!cp -r /content/test_data /content/drive/MyDrive/NAMA_OCR"
      ],
      "metadata": {
        "id": "syfh8HKbt6m0"
      },
      "execution_count": null,
      "outputs": []
    },
    {
      "cell_type": "markdown",
      "source": [
        "### Обучение модели"
      ],
      "metadata": {
        "id": "eVI6xUp40SjK"
      }
    },
    {
      "cell_type": "code",
      "source": [
        "#загружаем репозиторий для создания кастомной EasyOCR модели\n",
        "! git clone https://github.com/JaidedAI/EasyOCR"
      ],
      "metadata": {
        "colab": {
          "base_uri": "https://localhost:8080/"
        },
        "id": "7MH4ycApRN1j",
        "outputId": "44f1af91-2cee-4965-add1-bf19d76361e8"
      },
      "execution_count": null,
      "outputs": [
        {
          "output_type": "stream",
          "name": "stdout",
          "text": [
            "Cloning into 'EasyOCR'...\n",
            "remote: Enumerating objects: 2637, done.\u001b[K\n",
            "remote: Counting objects: 100% (95/95), done.\u001b[K\n",
            "remote: Compressing objects: 100% (76/76), done.\u001b[K\n",
            "remote: Total 2637 (delta 51), reused 41 (delta 18), pack-reused 2542\u001b[K\n",
            "Receiving objects: 100% (2637/2637), 152.91 MiB | 19.31 MiB/s, done.\n",
            "Resolving deltas: 100% (1576/1576), done.\n",
            "Updating files: 100% (305/305), done.\n"
          ]
        }
      ]
    },
    {
      "cell_type": "code",
      "source": [
        "#необходимо переместить train_data и test_data в trainer/all_data\n",
        "!mv /content/train_data /content/EasyOCR/trainer/all_data\n",
        "!mv /content/test_data /content/EasyOCR/trainer/all_data"
      ],
      "metadata": {
        "id": "wIkqe1YMl7fg"
      },
      "execution_count": null,
      "outputs": []
    },
    {
      "cell_type": "code",
      "source": [
        "dict_file = {\n",
        "    'number':'0123456789',\n",
        "    'symbol':'\"#$%&\\'()*+,-./:;<=>?@[\\\\]^_`{|}~ €',\n",
        "    'lang_char': 'ǀǁǂ!ABCDEFGHIJKLNOPRSTUVWXabcdefghijklmnopqrstuvwxyzÂÊÎÔÛâêôûîĀĒĪŌŪāēīōū',\n",
        "    'experiment_name':'khoekhoe_ocr',\n",
        "    'train_data':'/content/EasyOCR/trainer/all_data',\n",
        "    'valid_data':'/content/EasyOCR/trainer/all_data/test_data',\n",
        "    'manualSeed': 1111,\n",
        "    'workers':2,\n",
        "    'batch_size':64,\n",
        "    'num_iter': 5000,\n",
        "    'valInterval': 1000,\n",
        "    'saved_model': '',\n",
        "    'FT': False,\n",
        "    'optim': False, \n",
        "    'lr': 1,\n",
        "    'beta1': 0.9,\n",
        "    'rho': 0.95,\n",
        "    'eps': 0.00000001,\n",
        "    'grad_clip': 5,\n",
        "    'select_data': 'train_data',\n",
        "    'batch_ratio': '1',\n",
        "    'total_data_usage_ratio': 1.0,\n",
        "    'batch_max_length': 68,\n",
        "    'imgH': 64,\n",
        "    'imgW': 600,\n",
        "    'rgb': False,\n",
        "    'contrast_adjust': False,\n",
        "    'sensitive': True,\n",
        "    'PAD': True,\n",
        "    'contrast_adjust': 0.0,\n",
        "    'data_filtering_off': False,\n",
        "    'Transformation': 'None',\n",
        "    'FeatureExtraction': 'VGG',\n",
        "    'SequenceModeling': 'BiLSTM',\n",
        "    'Prediction': 'CTC',\n",
        "    'num_fiducial': 20,\n",
        "    'input_channel': 1,\n",
        "    'output_channel': 256,\n",
        "    'hidden_size': 256,\n",
        "    'decode': 'greedy',\n",
        "    'new_prediction': False,\n",
        "    'freeze_FeatureFxtraction': False,\n",
        "    'freeze_SequenceModeling': False \n",
        "    }\n",
        "\n",
        "with open(r'/content/EasyOCR/trainer/config_files/khoekhoe_ocr.yaml', 'w') as file:\n",
        "    documents = yaml.dump(dict_file, file)"
      ],
      "metadata": {
        "id": "vcO9j2MLlsTP"
      },
      "execution_count": null,
      "outputs": []
    },
    {
      "cell_type": "code",
      "source": [
        "#смотрим на версии torch и torchtext\n",
        "!pip3 show torchtext \n",
        "!pip3 show torch"
      ],
      "metadata": {
        "colab": {
          "base_uri": "https://localhost:8080/"
        },
        "id": "-82_e4n65quE",
        "outputId": "375eb705-f8fe-4ad8-e4d8-c36de37d993e"
      },
      "execution_count": null,
      "outputs": [
        {
          "output_type": "stream",
          "name": "stdout",
          "text": [
            "Name: torchtext\n",
            "Version: 0.6.0\n",
            "Summary: Text utilities and datasets for PyTorch\n",
            "Home-page: https://github.com/pytorch/text\n",
            "Author: PyTorch core devs and James Bradbury\n",
            "Author-email: jekbradbury@gmail.com\n",
            "License: BSD\n",
            "Location: /usr/local/lib/python3.10/dist-packages\n",
            "Requires: numpy, requests, sentencepiece, six, torch, tqdm\n",
            "Required-by: \n",
            "Name: torch\n",
            "Version: 2.0.1\n",
            "Summary: Tensors and Dynamic neural networks in Python with strong GPU acceleration\n",
            "Home-page: https://pytorch.org/\n",
            "Author: PyTorch Team\n",
            "Author-email: packages@pytorch.org\n",
            "License: BSD-3\n",
            "Location: /usr/local/lib/python3.10/dist-packages\n",
            "Requires: filelock, jinja2, networkx, nvidia-cublas-cu11, nvidia-cuda-cupti-cu11, nvidia-cuda-nvrtc-cu11, nvidia-cuda-runtime-cu11, nvidia-cudnn-cu11, nvidia-cufft-cu11, nvidia-curand-cu11, nvidia-cusolver-cu11, nvidia-cusparse-cu11, nvidia-nccl-cu11, nvidia-nvtx-cu11, sympy, triton, typing-extensions\n",
            "Required-by: fastai, torchaudio, torchdata, torchtext, torchvision, triton\n"
          ]
        }
      ]
    },
    {
      "cell_type": "code",
      "source": [
        "# версия torch нам не подходит + их версии несовместимы\n",
        "!pip3 uninstall torch -y"
      ],
      "metadata": {
        "id": "rVeBDpKEpBww",
        "colab": {
          "base_uri": "https://localhost:8080/"
        },
        "outputId": "2e61fbed-3461-4ff7-8fe0-b433dca8dd40"
      },
      "execution_count": null,
      "outputs": [
        {
          "output_type": "stream",
          "name": "stdout",
          "text": [
            "Found existing installation: torch 2.0.1\n",
            "Uninstalling torch-2.0.1:\n",
            "  Successfully uninstalled torch-2.0.1\n"
          ]
        }
      ]
    },
    {
      "cell_type": "code",
      "source": [
        "!pip3 install torchtext==0.6.0\n",
        "!pip3 install torch==1.11.0"
      ],
      "metadata": {
        "id": "fppYNbowqU9c"
      },
      "execution_count": null,
      "outputs": []
    },
    {
      "cell_type": "code",
      "source": [
        "# для того, чтобы осуществить импорт train.py и utils.py\n",
        "sys.path.append('/content/EasyOCR/trainer')"
      ],
      "metadata": {
        "id": "zx5dnYz_HxH4"
      },
      "execution_count": null,
      "outputs": []
    },
    {
      "cell_type": "code",
      "source": [
        "import torch.backends.cudnn as cudnn\n",
        "from train import train\n",
        "from utils import AttrDict\n",
        "import pandas as pd\n",
        "\n",
        "cudnn.benchmark = True\n",
        "cudnn.deterministic = False\n",
        "\n",
        "def get_config(file_path):\n",
        "    with open(file_path, 'r', encoding=\"utf8\") as stream:\n",
        "        opt = yaml.safe_load(stream)\n",
        "    opt = AttrDict(opt)\n",
        "    if opt.lang_char == 'None':\n",
        "        characters = ''\n",
        "        for data in opt['select_data'].split('-'):\n",
        "            csv_path = os.path.join(opt['train_data'], data, 'labels.csv')\n",
        "            df = pd.read_csv(csv_path, sep='^([^,]+),', engine='python', usecols=['filename', 'words'], keep_default_na=False)\n",
        "            all_char = ''.join(df['words'])\n",
        "            characters += ''.join(set(all_char))\n",
        "        characters = sorted(set(characters))\n",
        "        opt.character= ''.join(characters)\n",
        "    else:\n",
        "        opt.character = opt.number + opt.symbol + opt.lang_char\n",
        "    os.makedirs(f'./saved_models/{opt.experiment_name}', exist_ok=True)\n",
        "    return opt\n",
        "\n",
        "opt = get_config(\"/content/EasyOCR/trainer/config_files/khoekhoe_ocr.yaml\")"
      ],
      "metadata": {
        "id": "jdctEYsyF32M",
        "colab": {
          "base_uri": "https://localhost:8080/"
        },
        "outputId": "7cd89092-176c-481a-eace-c8ec7f376e16"
      },
      "execution_count": null,
      "outputs": [
        {
          "output_type": "stream",
          "name": "stderr",
          "text": [
            "/usr/local/lib/python3.10/dist-packages/torchvision/io/image.py:13: UserWarning: Failed to load image Python extension: '/usr/local/lib/python3.10/dist-packages/torchvision/image.so: undefined symbol: _ZN3c104impl8GPUTrace13gpuTraceStateE'If you don't plan on using image functionality from `torchvision.io`, you can ignore this warning. Otherwise, there might be something wrong with your environment. Did you have `libjpeg` or `libpng` installed before building `torchvision` from source?\n",
            "  warn(\n"
          ]
        }
      ]
    },
    {
      "cell_type": "code",
      "source": [
        "history = train(opt, amp=False)"
      ],
      "metadata": {
        "colab": {
          "base_uri": "https://localhost:8080/",
          "height": 329
        },
        "id": "cbLa3Ugs99bx",
        "outputId": "cb5cd092-ba09-417a-a4df-36bf3af73c7b"
      },
      "execution_count": null,
      "outputs": [
        {
          "output_type": "stream",
          "name": "stdout",
          "text": [
            "Filtering the images containing characters which are not in opt.character\n",
            "Filtering the images whose label is longer than opt.batch_max_length\n"
          ]
        },
        {
          "output_type": "error",
          "ename": "AttributeError",
          "evalue": "ignored",
          "traceback": [
            "\u001b[0;31m---------------------------------------------------------------------------\u001b[0m",
            "\u001b[0;31mAttributeError\u001b[0m                            Traceback (most recent call last)",
            "\u001b[0;32m<ipython-input-18-13423144c118>\u001b[0m in \u001b[0;36m<cell line: 1>\u001b[0;34m()\u001b[0m\n\u001b[0;32m----> 1\u001b[0;31m \u001b[0mhistory\u001b[0m \u001b[0;34m=\u001b[0m \u001b[0mtrain\u001b[0m\u001b[0;34m(\u001b[0m\u001b[0mopt\u001b[0m\u001b[0;34m,\u001b[0m \u001b[0mamp\u001b[0m\u001b[0;34m=\u001b[0m\u001b[0;32mFalse\u001b[0m\u001b[0;34m)\u001b[0m\u001b[0;34m\u001b[0m\u001b[0;34m\u001b[0m\u001b[0m\n\u001b[0m",
            "\u001b[0;32m/content/EasyOCR/trainer/train.py\u001b[0m in \u001b[0;36mtrain\u001b[0;34m(opt, show_number, amp)\u001b[0m\n\u001b[1;32m     36\u001b[0m         \u001b[0mprint\u001b[0m\u001b[0;34m(\u001b[0m\u001b[0;34m'Filtering the images whose label is longer than opt.batch_max_length'\u001b[0m\u001b[0;34m)\u001b[0m\u001b[0;34m\u001b[0m\u001b[0;34m\u001b[0m\u001b[0m\n\u001b[1;32m     37\u001b[0m \u001b[0;34m\u001b[0m\u001b[0m\n\u001b[0;32m---> 38\u001b[0;31m     \u001b[0mopt\u001b[0m\u001b[0;34m.\u001b[0m\u001b[0mselect_data\u001b[0m \u001b[0;34m=\u001b[0m \u001b[0mopt\u001b[0m\u001b[0;34m.\u001b[0m\u001b[0mselect_data\u001b[0m\u001b[0;34m.\u001b[0m\u001b[0msplit\u001b[0m\u001b[0;34m(\u001b[0m\u001b[0;34m'-'\u001b[0m\u001b[0;34m)\u001b[0m\u001b[0;34m\u001b[0m\u001b[0;34m\u001b[0m\u001b[0m\n\u001b[0m\u001b[1;32m     39\u001b[0m     \u001b[0mopt\u001b[0m\u001b[0;34m.\u001b[0m\u001b[0mbatch_ratio\u001b[0m \u001b[0;34m=\u001b[0m \u001b[0mopt\u001b[0m\u001b[0;34m.\u001b[0m\u001b[0mbatch_ratio\u001b[0m\u001b[0;34m.\u001b[0m\u001b[0msplit\u001b[0m\u001b[0;34m(\u001b[0m\u001b[0;34m'-'\u001b[0m\u001b[0;34m)\u001b[0m\u001b[0;34m\u001b[0m\u001b[0;34m\u001b[0m\u001b[0m\n\u001b[1;32m     40\u001b[0m     \u001b[0mtrain_dataset\u001b[0m \u001b[0;34m=\u001b[0m \u001b[0mBatch_Balanced_Dataset\u001b[0m\u001b[0;34m(\u001b[0m\u001b[0mopt\u001b[0m\u001b[0;34m)\u001b[0m\u001b[0;34m\u001b[0m\u001b[0;34m\u001b[0m\u001b[0m\n",
            "\u001b[0;31mAttributeError\u001b[0m: 'list' object has no attribute 'split'"
          ]
        }
      ]
    }
  ]
}